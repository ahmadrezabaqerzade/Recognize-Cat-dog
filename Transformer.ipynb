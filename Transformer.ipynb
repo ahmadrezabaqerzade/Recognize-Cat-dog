{
 "cells": [
  {
   "cell_type": "code",
   "execution_count": 59,
   "metadata": {},
   "outputs": [],
   "source": [
    "import torch as tc \n",
    "from torch import optim, nn \n",
    "from torch.utils.data import TensorDataset, DataLoader, random_split \n",
    "\n",
    "from torchvision import datasets \n",
    "from torchvision import transforms as T \n",
    "from torchvision import models\n",
    "\n",
    "import numpy as np \n",
    "import pandas as pd \n",
    "import matplotlib.pyplot as plt \n",
    "\n",
    "from torchmetrics import Accuracy\n",
    "\n",
    "from tqdm import tqdm "
   ]
  },
  {
   "cell_type": "code",
   "execution_count": 60,
   "metadata": {},
   "outputs": [],
   "source": [
    "transform_train = T.Compose([T.ToTensor(), T.Resize(size = (200, 200))])\n",
    "transform_valid = T.Compose([T.ToTensor(), T.Resize(size = (200, 200))])"
   ]
  },
  {
   "cell_type": "code",
   "execution_count": 61,
   "metadata": {},
   "outputs": [],
   "source": [
    "train_dataset = datasets.ImageFolder('/home/ahmadrezabaqerzadeh/datasets/DATA/Cat&dog/Dataset', transform = transform_train)\n",
    "valid_dataset = datasets.ImageFolder('/home/ahmadrezabaqerzadeh/datasets/DATA/Cat&dog/Validation', transform = transform_valid)"
   ]
  },
  {
   "cell_type": "code",
   "execution_count": 62,
   "metadata": {},
   "outputs": [
    {
     "data": {
      "text/plain": [
       "Dataset ImageFolder\n",
       "    Number of datapoints: 2000\n",
       "    Root location: /home/ahmadrezabaqerzadeh/datasets/DATA/Cat&dog/Dataset\n",
       "    StandardTransform\n",
       "Transform: Compose(\n",
       "               ToTensor()\n",
       "               Resize(size=(200, 200), interpolation=bilinear, max_size=None, antialias=None)\n",
       "           )"
      ]
     },
     "execution_count": 62,
     "metadata": {},
     "output_type": "execute_result"
    }
   ],
   "source": [
    "train_dataset"
   ]
  },
  {
   "cell_type": "code",
   "execution_count": 63,
   "metadata": {},
   "outputs": [
    {
     "data": {
      "text/plain": [
       "Dataset ImageFolder\n",
       "    Number of datapoints: 10\n",
       "    Root location: /home/ahmadrezabaqerzadeh/datasets/DATA/Cat&dog/Validation\n",
       "    StandardTransform\n",
       "Transform: Compose(\n",
       "               ToTensor()\n",
       "               Resize(size=(200, 200), interpolation=bilinear, max_size=None, antialias=None)\n",
       "           )"
      ]
     },
     "execution_count": 63,
     "metadata": {},
     "output_type": "execute_result"
    }
   ],
   "source": [
    "valid_dataset"
   ]
  },
  {
   "cell_type": "code",
   "execution_count": 64,
   "metadata": {},
   "outputs": [],
   "source": [
    "train_loader = DataLoader(train_dataset, batch_size = 32, shuffle = True)\n",
    "valid_loader = DataLoader(valid_dataset, batch_size = 5, shuffle  = False)"
   ]
  },
  {
   "cell_type": "code",
   "execution_count": 65,
   "metadata": {},
   "outputs": [],
   "source": [
    "x, y = next(iter(train_loader))"
   ]
  },
  {
   "cell_type": "code",
   "execution_count": 66,
   "metadata": {},
   "outputs": [],
   "source": [
    "device = 'cuda' if tc.cuda.is_available() else 'cpu'"
   ]
  },
  {
   "cell_type": "code",
   "execution_count": 67,
   "metadata": {},
   "outputs": [],
   "source": [
    "class TransformerModel(nn.Module):\n",
    "    \n",
    "    def __init__(self, d_model, nhead, num_encoder_layers, num_decoder_layers, dim_feedforward, dropout, activation, num_classes):\n",
    "        super().__init__()\n",
    "        \n",
    "        self.encoder = nn.Transformer(d_model, nhead, num_encoder_layers, num_decoder_layers, dim_feedforward, dropout, activation, batch_first = True).encoder\n",
    "        self.bn = nn.LazyBatchNorm2d()\n",
    "        self.fc = nn.LazyLinear(num_classes)\n",
    "        \n",
    "    def forward(self, x):\n",
    "        \n",
    "        x = x.mean(dim = 1)\n",
    "        y = self.encoder(x)\n",
    "\n",
    "        y = y.mean(dim = 1)\n",
    "        y = self.fc(y)\n",
    "        \n",
    "        return y"
   ]
  },
  {
   "cell_type": "code",
   "execution_count": 68,
   "metadata": {},
   "outputs": [],
   "source": [
    "model  = TransformerModel(200, 2, 2, 0, 256, 0.2, nn.ReLU(), 5).to(device)"
   ]
  },
  {
   "cell_type": "code",
   "execution_count": 69,
   "metadata": {},
   "outputs": [],
   "source": [
    "yp = model(x.to(device))"
   ]
  },
  {
   "cell_type": "code",
   "execution_count": 70,
   "metadata": {},
   "outputs": [
    {
     "data": {
      "text/plain": [
       "tensor(1.4135, device='cuda:0', grad_fn=<NllLossBackward0>)"
      ]
     },
     "execution_count": 70,
     "metadata": {},
     "output_type": "execute_result"
    }
   ],
   "source": [
    "nn.CrossEntropyLoss()(yp, y.to(device))"
   ]
  },
  {
   "cell_type": "code",
   "execution_count": 71,
   "metadata": {},
   "outputs": [],
   "source": [
    "class AverageMeter(object):\n",
    "    \"\"\"Computes and stores the average and current value\"\"\"\n",
    "    def __init__(self):\n",
    "        self.reset()\n",
    "\n",
    "    def reset(self):\n",
    "        self.val = 0\n",
    "        self.avg = 0\n",
    "        self.sum = 0\n",
    "        self.count = 0\n",
    "\n",
    "    def update(self, val, n=1):\n",
    "        self.val = val\n",
    "        self.sum += val * n\n",
    "        self.count += n\n",
    "        self.avg = self.sum / self.count"
   ]
  },
  {
   "cell_type": "code",
   "execution_count": 72,
   "metadata": {},
   "outputs": [],
   "source": [
    "def train_one_epoch(model, train_loader, loss_func, optimizer, epoch):\n",
    "    model.train()\n",
    "\n",
    "    train_loss=AverageMeter()\n",
    "    train_acc=Accuracy(task='multiclass', num_classes=5).to(device)\n",
    "\n",
    "    with tqdm(train_loader, unit='batch') as tepoch:\n",
    "        for x, y in tepoch:\n",
    "            if epoch is not None:\n",
    "                tepoch.set_description(f'Epoch={epoch}')\n",
    "\n",
    "            x=x.to(device)\n",
    "            y=y.to(device)\n",
    "\n",
    "            yp=model(x)\n",
    "        \n",
    "            loss=loss_func(yp.squeeze(),  y)\n",
    "            loss.backward()\n",
    "            #nn.utils.clip_grad_norm(model.parameters(), 0.5)\n",
    "            optimizer.step()\n",
    "            optimizer.zero_grad()\n",
    "\n",
    "            train_loss.update(loss.item())\n",
    "            train_acc(yp.squeeze(), y.int())\n",
    "\n",
    "            tepoch.set_postfix(loss=train_loss.avg, Accuracy=train_acc.compute().item() * 100)\n",
    "\n",
    "    return model, train_loss.avg, train_acc.compute().item()"
   ]
  },
  {
   "cell_type": "code",
   "execution_count": 73,
   "metadata": {},
   "outputs": [],
   "source": [
    "def validation(model, valid_loaedr, loss_func):\n",
    "    model.eval()\n",
    "\n",
    "    valid_loss=AverageMeter()\n",
    "    valid_acc=Accuracy(task='multiclass', num_classes=5).to(device)\n",
    "\n",
    "    for x, y in valid_loaedr:\n",
    "\n",
    "        x=x.to(device)\n",
    "        y=y.to(device)\n",
    "\n",
    "        yp=model(x)\n",
    "        loss=loss_func(yp.squeeze(), y)\n",
    "\n",
    "        valid_loss.update(loss.item())\n",
    "        valid_acc(yp.squeeze(), y)\n",
    "\n",
    "    print(f'valid loss={valid_loss.avg:.4}, accuracy={valid_acc.compute().item() * 100 :.4}')\n",
    "    print()\n",
    "\n",
    "    return valid_loss.avg, valid_acc.compute().item()"
   ]
  },
  {
   "cell_type": "code",
   "execution_count": 83,
   "metadata": {},
   "outputs": [],
   "source": [
    "model  = TransformerModel(200, 5, 4, 0, 256, 0.2, nn.ReLU(), 5).to(device)"
   ]
  },
  {
   "cell_type": "code",
   "execution_count": 84,
   "metadata": {},
   "outputs": [],
   "source": [
    "optimizer = optim.SGD(model.parameters(), lr = 0.0001, momentum = 0.9, weight_decay = 1e-4)\n",
    "loss_func = nn.CrossEntropyLoss()"
   ]
  },
  {
   "cell_type": "code",
   "execution_count": 85,
   "metadata": {},
   "outputs": [],
   "source": [
    "loss_train_hist, acc_train_hist = [], [] \n",
    "loss_valid_hist, acc_valid_hist = [], []\n",
    "best_model = [0]\n",
    "best_loss = tc.inf"
   ]
  },
  {
   "cell_type": "code",
   "execution_count": 86,
   "metadata": {},
   "outputs": [
    {
     "name": "stderr",
     "output_type": "stream",
     "text": [
      "Epoch=0: 100%|██████████| 63/63 [00:14<00:00,  4.46batch/s, Accuracy=50.8, loss=0.983]\n"
     ]
    },
    {
     "name": "stdout",
     "output_type": "stream",
     "text": [
      "valid loss=0.6851, accuracy=50.0\n",
      "\n",
      "model saved!\n"
     ]
    },
    {
     "name": "stderr",
     "output_type": "stream",
     "text": [
      "Epoch=1: 100%|██████████| 63/63 [00:14<00:00,  4.35batch/s, Accuracy=51.9, loss=0.746]\n"
     ]
    },
    {
     "name": "stdout",
     "output_type": "stream",
     "text": [
      "valid loss=0.6715, accuracy=60.0\n",
      "\n",
      "model saved!\n"
     ]
    },
    {
     "name": "stderr",
     "output_type": "stream",
     "text": [
      "Epoch=2: 100%|██████████| 63/63 [00:15<00:00,  4.14batch/s, Accuracy=50.4, loss=0.726]\n"
     ]
    },
    {
     "name": "stdout",
     "output_type": "stream",
     "text": [
      "valid loss=0.6673, accuracy=50.0\n",
      "\n",
      "model saved!\n"
     ]
    },
    {
     "name": "stderr",
     "output_type": "stream",
     "text": [
      "Epoch=3: 100%|██████████| 63/63 [00:14<00:00,  4.48batch/s, Accuracy=51.7, loss=0.719]\n"
     ]
    },
    {
     "name": "stdout",
     "output_type": "stream",
     "text": [
      "valid loss=0.6636, accuracy=60.0\n",
      "\n",
      "model saved!\n"
     ]
    },
    {
     "name": "stderr",
     "output_type": "stream",
     "text": [
      "Epoch=4: 100%|██████████| 63/63 [00:12<00:00,  4.86batch/s, Accuracy=51.2, loss=0.713]\n"
     ]
    },
    {
     "name": "stdout",
     "output_type": "stream",
     "text": [
      "valid loss=0.6638, accuracy=70.0\n",
      "\n"
     ]
    },
    {
     "name": "stderr",
     "output_type": "stream",
     "text": [
      "Epoch=5: 100%|██████████| 63/63 [00:13<00:00,  4.70batch/s, Accuracy=51.6, loss=0.71] \n"
     ]
    },
    {
     "name": "stdout",
     "output_type": "stream",
     "text": [
      "valid loss=0.6651, accuracy=70.0\n",
      "\n"
     ]
    },
    {
     "name": "stderr",
     "output_type": "stream",
     "text": [
      "Epoch=6: 100%|██████████| 63/63 [00:13<00:00,  4.82batch/s, Accuracy=52.6, loss=0.707]\n"
     ]
    },
    {
     "name": "stdout",
     "output_type": "stream",
     "text": [
      "valid loss=0.6655, accuracy=60.0\n",
      "\n"
     ]
    },
    {
     "name": "stderr",
     "output_type": "stream",
     "text": [
      "Epoch=7: 100%|██████████| 63/63 [00:15<00:00,  4.19batch/s, Accuracy=52.6, loss=0.705]\n"
     ]
    },
    {
     "name": "stdout",
     "output_type": "stream",
     "text": [
      "valid loss=0.6646, accuracy=50.0\n",
      "\n"
     ]
    },
    {
     "name": "stderr",
     "output_type": "stream",
     "text": [
      "Epoch=8: 100%|██████████| 63/63 [00:15<00:00,  4.16batch/s, Accuracy=51.3, loss=0.704]\n"
     ]
    },
    {
     "name": "stdout",
     "output_type": "stream",
     "text": [
      "valid loss=0.6662, accuracy=60.0\n",
      "\n"
     ]
    },
    {
     "name": "stderr",
     "output_type": "stream",
     "text": [
      "Epoch=9: 100%|██████████| 63/63 [00:14<00:00,  4.25batch/s, Accuracy=53.2, loss=0.701]\n"
     ]
    },
    {
     "name": "stdout",
     "output_type": "stream",
     "text": [
      "valid loss=0.673, accuracy=40.0\n",
      "\n"
     ]
    },
    {
     "name": "stderr",
     "output_type": "stream",
     "text": [
      "Epoch=10: 100%|██████████| 63/63 [00:14<00:00,  4.47batch/s, Accuracy=53.1, loss=0.7]  \n"
     ]
    },
    {
     "name": "stdout",
     "output_type": "stream",
     "text": [
      "valid loss=0.6691, accuracy=70.0\n",
      "\n"
     ]
    },
    {
     "name": "stderr",
     "output_type": "stream",
     "text": [
      "Epoch=11: 100%|██████████| 63/63 [00:13<00:00,  4.52batch/s, Accuracy=52.1, loss=0.7]  \n"
     ]
    },
    {
     "name": "stdout",
     "output_type": "stream",
     "text": [
      "valid loss=0.6661, accuracy=70.0\n",
      "\n"
     ]
    },
    {
     "name": "stderr",
     "output_type": "stream",
     "text": [
      "Epoch=12: 100%|██████████| 63/63 [00:13<00:00,  4.59batch/s, Accuracy=54, loss=0.699]  \n"
     ]
    },
    {
     "name": "stdout",
     "output_type": "stream",
     "text": [
      "valid loss=0.6681, accuracy=70.0\n",
      "\n"
     ]
    },
    {
     "name": "stderr",
     "output_type": "stream",
     "text": [
      "Epoch=13: 100%|██████████| 63/63 [00:14<00:00,  4.37batch/s, Accuracy=53, loss=0.698]  \n"
     ]
    },
    {
     "name": "stdout",
     "output_type": "stream",
     "text": [
      "valid loss=0.6686, accuracy=70.0\n",
      "\n"
     ]
    },
    {
     "name": "stderr",
     "output_type": "stream",
     "text": [
      "Epoch=14: 100%|██████████| 63/63 [00:14<00:00,  4.43batch/s, Accuracy=52.4, loss=0.698]\n"
     ]
    },
    {
     "name": "stdout",
     "output_type": "stream",
     "text": [
      "valid loss=0.6688, accuracy=50.0\n",
      "\n"
     ]
    },
    {
     "name": "stderr",
     "output_type": "stream",
     "text": [
      "Epoch=15: 100%|██████████| 63/63 [00:14<00:00,  4.36batch/s, Accuracy=52.2, loss=0.697]\n"
     ]
    },
    {
     "name": "stdout",
     "output_type": "stream",
     "text": [
      "valid loss=0.6701, accuracy=50.0\n",
      "\n"
     ]
    },
    {
     "name": "stderr",
     "output_type": "stream",
     "text": [
      "Epoch=16: 100%|██████████| 63/63 [00:14<00:00,  4.25batch/s, Accuracy=51.6, loss=0.697]\n"
     ]
    },
    {
     "name": "stdout",
     "output_type": "stream",
     "text": [
      "valid loss=0.669, accuracy=70.0\n",
      "\n"
     ]
    },
    {
     "name": "stderr",
     "output_type": "stream",
     "text": [
      "Epoch=17: 100%|██████████| 63/63 [00:14<00:00,  4.37batch/s, Accuracy=53.9, loss=0.697]\n"
     ]
    },
    {
     "name": "stdout",
     "output_type": "stream",
     "text": [
      "valid loss=0.6706, accuracy=70.0\n",
      "\n"
     ]
    },
    {
     "name": "stderr",
     "output_type": "stream",
     "text": [
      "Epoch=18: 100%|██████████| 63/63 [00:14<00:00,  4.30batch/s, Accuracy=52.2, loss=0.697]\n"
     ]
    },
    {
     "name": "stdout",
     "output_type": "stream",
     "text": [
      "valid loss=0.6723, accuracy=70.0\n",
      "\n"
     ]
    },
    {
     "name": "stderr",
     "output_type": "stream",
     "text": [
      "Epoch=19: 100%|██████████| 63/63 [00:15<00:00,  4.17batch/s, Accuracy=51.2, loss=0.696]\n"
     ]
    },
    {
     "name": "stdout",
     "output_type": "stream",
     "text": [
      "valid loss=0.6705, accuracy=70.0\n",
      "\n"
     ]
    }
   ],
   "source": [
    "N = 20\n",
    "for i in range(N):\n",
    "\n",
    "  model, train_loss, train_acc = train_one_epoch(model, train_loader, loss_func, optimizer, i)\n",
    "  valid_loss, valid_acc = validation(model, valid_loader, loss_func)\n",
    "\n",
    "  acc_train_hist.append(train_acc)\n",
    "  loss_train_hist.append(train_loss)\n",
    "\n",
    "  acc_valid_hist.append(valid_acc)\n",
    "  loss_valid_hist.append(valid_loss)\n",
    "\n",
    "  if valid_loss<best_loss:\n",
    "    best_loss = valid_loss\n",
    "    best_model[0] = model\n",
    "    print('model saved!')"
   ]
  },
  {
   "cell_type": "code",
   "execution_count": 87,
   "metadata": {},
   "outputs": [
    {
     "data": {
      "image/png": "[encoded data removed]",
      "text/plain": [
       "<Figure size 640x480 with 1 Axes>"
      ]
     },
     "metadata": {},
     "output_type": "display_data"
    }
   ],
   "source": [
    "plt.plot(range(N), loss_train_hist, label = 'train loss')\n",
    "plt.plot(range(N), loss_valid_hist, label = 'valid loss')\n",
    "plt.legend()\n",
    "plt.xlabel('Epoch')\n",
    "plt.ylabel('Loss')\n",
    "plt.show()"
   ]
  },
  {
   "cell_type": "code",
   "execution_count": 88,
   "metadata": {},
   "outputs": [
    {
     "data": {
      "image/png": "[encoded data removed]",
      "text/plain": [
       "<Figure size 640x480 with 1 Axes>"
      ]
     },
     "metadata": {},
     "output_type": "display_data"
    }
   ],
   "source": [
    "plt.plot(range(N), acc_train_hist, label = 'train accuracy')\n",
    "plt.plot(range(N), acc_valid_hist, label = 'validation accuracy')\n",
    "plt.xlabel('Epoch')\n",
    "plt.ylabel('Accuracy')\n",
    "plt.legend()\n",
    "plt.show()"
   ]
  },
  {
   "cell_type": "code",
   "execution_count": null,
   "metadata": {},
   "outputs": [],
   "source": []
  }
 ],
 "metadata": {
  "kernelspec": {
   "display_name": "Python 3",
   "language": "python",
   "name": "python3"
  },
  "language_info": {
   "codemirror_mode": {
    "name": "ipython",
    "version": 3
   },
   "file_extension": ".py",
   "mimetype": "text/x-python",
   "name": "python",
   "nbconvert_exporter": "python",
   "pygments_lexer": "ipython3",
   "version": "3.10.9"
  },
  "orig_nbformat": 4,
  "vscode": {
   "interpreter": {
    "hash": "e7370f93d1d0cde622a1f8e1c04877d8463912d04d973331ad4851f04de6915a"
   }
  }
 },
 "nbformat": 4,
 "nbformat_minor": 2
}
